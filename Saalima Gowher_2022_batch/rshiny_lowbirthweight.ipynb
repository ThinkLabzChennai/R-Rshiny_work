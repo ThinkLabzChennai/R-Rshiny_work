{
 "cells": [
  {
   "cell_type": "code",
   "execution_count": null,
   "metadata": {},
   "outputs": [],
   "source": [
    "## SAALIMA GOWHER\n",
    "\n",
    "## Thinklabz Trainee 2022 Batch\n",
    "\n",
    "## About project:(using R Programming)\n",
    "\n",
    "### Low Birth Weight Analysis\n",
    "    Birth weight is the weight of baby taken just after he or she is born, and a baby birth weight is a strong indicator of maternal and new-born health and nutrition. According to World Health Organization (WHO), low birth weight is defined as the birthweight less than 2,500 grams or 5.5 pounds regardless of gestational age. The normal weight range for new-born baby should exceed 2,500 grams (5.5 pounds) but less than 4,000 grams (8.8 pounds).\n",
    "\n",
    "    Low birth weight is an outcome that has been of concern because infant mortality rates and birth defect rates are very high for low birth weight babies. Low birth weight can occur in premature babies who are delivered at a gestational age less than 37 weeks of pregnancy (the normal length of a pregnancy is 40 weeks) or in babies who are born at the regular time but are under weight. Baby with greater than the normal weight range is considered large and would increase risk and difficulties during delivery.\n",
    "### Objective of study\n",
    "    The main goal of this project is to obtain prediction for the birthweight of the baby and whether a baby is underweight, overweight or has normal weight given information about the mother’s historical health, habits, gestational period and age.   \n",
    "### Overview of Data\n",
    "    The data on 189 births were collected at Bay state Medical Center,Springfield,Mass,during 1986.The data set contains an indicator of low infant birth weight as a reponse and several risk factors associated with birth weight. \n",
    "    \n",
    "    I have done the analysis in R programming & created R shiny webapp, below is the link of app which is hosted in the internet\n",
    "\n",
    "#### R Shiny web app:\n",
    "\n",
    " https://saalimagowher.shinyapps.io/ShinyProject/\n",
    "\n",
    " #### Github Link:\n",
    " https://github.com/saalimagowher/lowbirthweight.1"
   ]
  }
 ],
 "metadata": {
  "language_info": {
   "name": "python"
  },
  "orig_nbformat": 4
 },
 "nbformat": 4,
 "nbformat_minor": 2
}
