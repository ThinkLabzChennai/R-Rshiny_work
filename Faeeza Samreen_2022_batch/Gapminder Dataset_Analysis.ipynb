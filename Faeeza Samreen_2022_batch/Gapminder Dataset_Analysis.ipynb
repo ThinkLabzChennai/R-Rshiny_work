{
 "cells": [
  {
   "attachments": {},
   "cell_type": "markdown",
   "metadata": {},
   "source": [
    "\n",
    "\n",
    "# FAEEEZA SAMREEN\n",
    "# Thinklabz Trainee\n",
    "# 2022 batch\n",
    "\n",
    "\n",
    "# About Project:"
   ]
  },
  {
   "attachments": {},
   "cell_type": "markdown",
   "metadata": {},
   "source": [
    "## Gapminder Dataset_Analysis\n",
    "\n",
    "Data included in this dataset is from the Gapminder.org website.\n",
    "It was inspired by Hans Rosling visualization and decided to create my own visualization with pandas and seaborn. Gapminder (Factfulness graph)\n",
    "It provides data about the population, life expectancy and GDP in different countries of the world from 1952 to 2007. There is also a separate file for 2007.\n",
    "\n",
    "I done the analysis in R programming.\n",
    "Here the link of R SHINY web app is available which hosted in Internet\n",
    "https://faiza77.shinyapps.io/sp_gapminder/\n"
   ]
  },
  {
   "attachments": {},
   "cell_type": "markdown",
   "metadata": {},
   "source": [
    "### Github link:\n",
    "https://github.com/Faeeza7/GapMinder"
   ]
  }
 ],
 "metadata": {
  "language_info": {
   "name": "python"
  },
  "orig_nbformat": 4
 },
 "nbformat": 4,
 "nbformat_minor": 2
}
